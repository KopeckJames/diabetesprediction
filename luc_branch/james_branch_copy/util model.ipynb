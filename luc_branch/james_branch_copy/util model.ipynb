{
 "cells": [
  {
   "cell_type": "code",
   "execution_count": null,
   "metadata": {},
   "outputs": [],
   "source": [
    "def apply_models(X, y):\n",
    "    # Split the data into training and test sets\n",
    "    X_train, X_test, y_train, y_test = train_test_split(X, y, test_size=0.2, random_state=42)\n",
    "\n",
    "    # Initialize the StandardScaler\n",
    "    scaler = StandardScaler()\n",
    "\n",
    "    # Fit the scaler on the training data and transform both training and test data\n",
    "    X_train = scaler.fit_transform(X_train)\n",
    "    X_test = scaler.transform(X_test)\n",
    "\n",
    "    # Define the models\n",
    "    models = {\n",
    "        'LogisticRegression': LogisticRegression(),\n",
    "        'SVC': SVC(),\n",
    "        'DecisionTree': DecisionTreeClassifier(),\n",
    "        'RandomForest': RandomForestClassifier(),\n",
    "    \n",
    "    }\n",
    "\n",
    "    # Apply each model\n",
    "    for model_name, model in models.items():\n",
    "        print(f\"\\nClassification with {model_name}:\\n{'-' * 30}\")\n",
    "        \n",
    "        # Fit the model to the training data\n",
    "        model.fit(X_train, y_train)\n",
    "\n",
    "        # Make predictions on the test data\n",
    "        y_pred = model.predict(X_test)\n",
    "\n",
    "        # Print the accuracy score\n",
    "        print(\"**Accuracy**:\\n\", accuracy_score(y_test, y_pred))\n",
    "\n",
    "        # Print the confusion matrix\n",
    "        print(\"\\n**Confusion Matrix**:\\n\", confusion_matrix(y_test, y_pred))\n",
    "\n",
    "        # Print the classification report\n",
    "        print(\"\\n**Classification Report**:\\n\", classification_report(y_test, y_pred))\n",
    "\n",
    "\n",
    "\n"
   ]
  },
  {
   "cell_type": "code",
   "execution_count": null,
   "metadata": {},
   "outputs": [],
   "source": [
    "apply_models(X,y)"
   ]
  }
 ],
 "metadata": {
  "language_info": {
   "name": "python"
  }
 },
 "nbformat": 4,
 "nbformat_minor": 2
}
